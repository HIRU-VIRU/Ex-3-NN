{
  "cells": [
    {
      "cell_type": "code",
      "execution_count": 1,
      "metadata": {
        "id": "p3YqYuerHPlE"
      },
      "outputs": [],
      "source": [
        "import numpy as np\n",
        "import pandas as pd\n",
        "import io\n",
        "import matplotlib.pyplot as plt"
      ]
    },
    {
      "cell_type": "code",
      "execution_count": 2,
      "metadata": {
        "id": "9gMGLXCIHPlG"
      },
      "outputs": [],
      "source": [
        "# Initialize the input vector and output vector for XOR\n",
        "x=np.array([[0,0,1,1],[0,1,0,1]])\n",
        "y=np.array([[0,1,1,0]])"
      ]
    },
    {
      "cell_type": "code",
      "execution_count": 3,
      "metadata": {
        "id": "yz9UqPl0HPlG"
      },
      "outputs": [],
      "source": [
        "#Initialize the structure of  MLP with input ,hidden  and output layer\n",
        "n_x = 2\n",
        "n_y = 1\n",
        "n_h = 2\n",
        "m = x.shape[1]\n",
        "lr = 0.1\n",
        "\n"
      ]
    },
    {
      "cell_type": "code",
      "execution_count": 6,
      "metadata": {
        "id": "uzPIcgG-HPlH"
      },
      "outputs": [],
      "source": [
        "# Weight matrix for hidden layer randomly\n",
        "w1= np.random.rand(n_h,n_x)\n",
        "w2= np.random.rand(n_y,n_h)\n"
      ]
    },
    {
      "cell_type": "code",
      "execution_count": 7,
      "metadata": {
        "id": "3V7gekiwHPlH"
      },
      "outputs": [],
      "source": [
        "losses = []\n",
        "def sigmoid(z):\n",
        "  z= 1/(1+np.exp(-z))\n",
        "  return z\n",
        ""
      ]
    },
    {
      "cell_type": "code",
      "execution_count": 8,
      "metadata": {
        "id": "Vn1oFP0xHPlH"
      },
      "outputs": [],
      "source": [
        "def forward_prop(w1,w2,x):\n",
        "    z1 = np.dot(w1,x)\n",
        "    a1 = sigmoid(z1)\n",
        "    z2 = np.dot(w2,a1)\n",
        "    a2 = sigmoid(z2)\n",
        "    return z1,a1,z2,a2"
      ]
    },
    {
      "cell_type": "code",
      "execution_count": 9,
      "metadata": {
        "id": "jA_rySocHPlH"
      },
      "outputs": [],
      "source": [
        "def back_prop(m,w1,w2,z1,a1,z2,a2,y):\n",
        "  dz2=a2-y\n",
        "  dw2=np.dot(dz2,a1.T)/m\n",
        "  dz1=np.dot(w2.T,dz2)*a1*(1-a1)\n",
        "  dw1=np.dot(dz1,x.T)/m\n",
        "  dw1=np.reshape(dw1,w1.shape)\n",
        "  dw2=np.reshape(dw2,w2.shape)\n",
        "  return dz2,dw2,dz1,dw1\n",
        "\n",
        "\n",
        ""
      ]
    },
    {
      "cell_type": "code",
      "execution_count": 10,
      "metadata": {
        "id": "upEZ44ArHPlI"
      },
      "outputs": [],
      "source": [
        "#Train the MLP\n",
        "iterations = 10000\n",
        "for i in range(iterations):\n",
        "  z1,a1,z2,a2=forward_prop(w1,w2,x)\n",
        "  loss= -(1/m)*np.sum(y*np.log(a2)+(1-y)*np.log(1-a2))\n",
        "  losses.append(loss)\n",
        "  da2,dw2,dz1,dw1=back_prop(m,w1,w2,z1,a1,z2,a2,y)\n",
        "  w2=w2-lr*dw2\n",
        "  w1=w1-lr*dw1\n",
        "\n",
        "\n"
      ]
    },
    {
      "cell_type": "code",
      "execution_count": 11,
      "metadata": {
        "colab": {
          "base_uri": "https://localhost:8080/",
          "height": 466
        },
        "id": "HoUa_2DJHPlI",
        "outputId": "5edbc64b-379d-455e-e12c-494969b064b5"
      },
      "outputs": [
        {
          "output_type": "execute_result",
          "data": {
            "text/plain": [
              "Text(0, 0.5, 'Loss value')"
            ]
          },
          "metadata": {},
          "execution_count": 11
        },
        {
          "output_type": "display_data",
          "data": {
            "text/plain": [
              "<Figure size 640x480 with 1 Axes>"
            ],
            "image/png": "[encoded data removed]"
          },
          "metadata": {}
        }
      ],
      "source": [
        "# plot losses to see how our network is doing\n",
        "plt.plot(losses)\n",
        "plt.xlabel(\"EPOCHS\")\n",
        "plt.ylabel(\"Loss value\")"
      ]
    },
    {
      "cell_type": "code",
      "execution_count": 12,
      "metadata": {
        "id": "gwAdjgGSHPlI"
      },
      "outputs": [],
      "source": [
        "#Test the XOR classification\n",
        "def predict(w1,w2,input):\n",
        "  z1,a1,z2,a2=forward_prop(w1,w2,test)\n",
        "  a2=np.squeeze(a2)\n",
        "  if a2>=0.5:\n",
        "    print([i[0] for i in input],1)\n",
        "  else:\n",
        "    print([i[0] for i in input],0)\n",
        ""
      ]
    },
    {
      "cell_type": "code",
      "source": [
        "print('Input','Output')\n",
        "test=np.array([[1],[0]])\n",
        "predict(w1,w2,test)\n",
        "test=np.array([[1],[1]])\n",
        "predict(w1,w2,test)\n",
        "test=np.array([[0],[1]])\n",
        "predict(w1,w2,test)\n",
        "test=np.array([[0],[0]])\n",
        "predict(w1,w2,test)\n"
      ],
      "metadata": {
        "colab": {
          "base_uri": "https://localhost:8080/"
        },
        "id": "GedH0lk9IA86",
        "outputId": "d84e1f5f-945b-4fe0-cb7a-ccf7ce13a7cb"
      },
      "execution_count": 13,
      "outputs": [
        {
          "output_type": "stream",
          "name": "stdout",
          "text": [
            "Input Output\n",
            "[np.int64(1), np.int64(0)] 1\n",
            "[np.int64(1), np.int64(1)] 0\n",
            "[np.int64(0), np.int64(1)] 1\n",
            "[np.int64(0), np.int64(0)] 0\n"
          ]
        }
      ]
    },
    {
      "cell_type": "code",
      "source": [],
      "metadata": {
        "id": "z54GnH8KINwU"
      },
      "execution_count": null,
      "outputs": []
    }
  ],
  "metadata": {
    "kernelspec": {
      "display_name": "Python 3",
      "language": "python",
      "name": "python3"
    },
    "language_info": {
      "name": "python",
      "version": "3.10.6"
    },
    "colab": {
      "provenance": []
    }
  },
  "nbformat": 4,
  "nbformat_minor": 0
}